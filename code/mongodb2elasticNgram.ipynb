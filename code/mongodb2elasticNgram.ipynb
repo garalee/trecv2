{
 "metadata": {
  "name": "",
  "signature": "sha256:2fd01f69879383907166f96bb6daf798a590d97a8b3c04eda58e2f011a9e58b2"
 },
 "nbformat": 3,
 "nbformat_minor": 0,
 "worksheets": [
  {
   "cells": [
    {
     "cell_type": "code",
     "collapsed": false,
     "input": [
      "from datetime import datetime\n",
      "from elasticsearch import Elasticsearch"
     ],
     "language": "python",
     "metadata": {},
     "outputs": [],
     "prompt_number": 1
    },
    {
     "cell_type": "code",
     "collapsed": false,
     "input": [
      "from pymongo import MongoClient\n",
      "client = MongoClient('mongodb://202.30.23.40:27017')\n",
      "es = Elasticsearch([{'host':'localhost', 'port':9200}])"
     ],
     "language": "python",
     "metadata": {},
     "outputs": [],
     "prompt_number": 2
    },
    {
     "cell_type": "code",
     "collapsed": false,
     "input": [
      "db = client.trec"
     ],
     "language": "python",
     "metadata": {},
     "outputs": [],
     "prompt_number": 3
    },
    {
     "cell_type": "code",
     "collapsed": false,
     "input": [
      "collection = db.ArticleSmallData2"
     ],
     "language": "python",
     "metadata": {},
     "outputs": [],
     "prompt_number": 4
    },
    {
     "cell_type": "code",
     "collapsed": false,
     "input": [
      "#data = collection.find_one()\n",
      "cursor = collection.find()\n",
      "data = cursor.next()\n",
      "#obj = next(cursor, None)\n",
      "#data['pmcid']"
     ],
     "language": "python",
     "metadata": {},
     "outputs": [],
     "prompt_number": 5
    },
    {
     "cell_type": "code",
     "collapsed": false,
     "input": [
      "while(data):\n",
      "  #from bson.json_util import dumps\n",
      "#import json\n",
      "  title = data['title']\n",
      "  pmcid = data['pmcid']\n",
      "  abstract = data['abstrctSectionList']\n",
      "  body = data['bodySectionList']\n",
      "  #title = json.loads(dumps(data))['articleMeta']['title']\n",
      "  #section = json.loads(dumps(data))['articleContent']['sectionList']\n",
      "  #pmcid = json.loads(dumps(data))['articleMeta']['pmcid']\n",
      "\n",
      "  #print(pmcid)\n",
      "  #print(body)\n",
      "\n",
      "  data = {\n",
      "    'pmcid' : pmcid,\n",
      "    'title' : title,  \n",
      "    'abstract' : abstract,\n",
      "    'body' : body\n",
      "  }\n",
      "\n",
      "  res = es.index(index=\"trecngram\", doc_type='ngram', id=pmcid, body=data)  \n",
      "#print(res['created'])\n",
      "#res = es.get(index=\"trec\", doc_type='articleSmall', id=pmcid)\n",
      "#print(res['_source'])\n",
      "  data = cursor.next()\n",
      "print(\"finished\")"
     ],
     "language": "python",
     "metadata": {},
     "outputs": []
    },
    {
     "cell_type": "code",
     "collapsed": false,
     "input": [
      "print(\"finish\")"
     ],
     "language": "python",
     "metadata": {},
     "outputs": [
      {
       "output_type": "stream",
       "stream": "stdout",
       "text": [
        "finish\n"
       ]
      }
     ],
     "prompt_number": 1
    },
    {
     "cell_type": "code",
     "collapsed": false,
     "input": [],
     "language": "python",
     "metadata": {},
     "outputs": []
    }
   ],
   "metadata": {}
  }
 ]
}