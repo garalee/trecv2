{
 "cells": [
  {
   "cell_type": "code",
   "execution_count": 2,
   "metadata": {
    "collapsed": true
   },
   "outputs": [],
   "source": [
    "from elasticsearch import Elasticsearch\n",
    "es = Elasticsearch([{'host':'localhost', 'port':9200}])"
   ]
  },
  {
   "cell_type": "code",
   "execution_count": 5,
   "metadata": {
    "collapsed": false
   },
   "outputs": [],
   "source": [
    "#res = es.index(index=\"trec25gram\", doc_type='25gram', id=pmcid, body=data)  \n",
    "#print(res['created'])\n",
    "#res = es.get(index=\"trec\", doc_type='articleSmall', id=pmcid)\n",
    "#print(res['_source'])\n",
    "query = {\"title\":\"Lawrence\"}\n",
    "res = es.search(index=\"trec\",doc_type=\"articleSmall\", q=\"Lawrence\")"
   ]
  },
  {
   "cell_type": "code",
   "execution_count": 17,
   "metadata": {
    "collapsed": false
   },
   "outputs": [
    {
     "name": "stdout",
     "output_type": "stream",
     "text": [
      "1 1033836\n",
      "2 2139865\n",
      "3 1483212\n",
      "4 2792860\n",
      "5 3101345\n",
      "6 2876837\n",
      "7 2884980\n",
      "8 3114833\n",
      "9 1480486\n",
      "10 2553661\n"
     ]
    }
   ],
   "source": [
    "count = 0\n",
    "for doc in res['hits']['hits']:\n",
    "    count += 1\n",
    "    print '{0}, {1}'.format(count,doc['_source']['pmcid'])"
   ]
  },
  {
   "cell_type": "code",
   "execution_count": null,
   "metadata": {
    "collapsed": true
   },
   "outputs": [],
   "source": []
  }
 ],
 "metadata": {
  "kernelspec": {
   "display_name": "Python 2",
   "language": "python",
   "name": "python2"
  },
  "language_info": {
   "codemirror_mode": {
    "name": "ipython",
    "version": 2
   },
   "file_extension": ".py",
   "mimetype": "text/x-python",
   "name": "python",
   "nbconvert_exporter": "python",
   "pygments_lexer": "ipython2",
   "version": "2.7.6"
  }
 },
 "nbformat": 4,
 "nbformat_minor": 0
}
